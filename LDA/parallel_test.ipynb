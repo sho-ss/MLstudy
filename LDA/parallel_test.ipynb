{
 "cells": [
  {
   "cell_type": "code",
   "execution_count": 30,
   "metadata": {
    "collapsed": false
   },
   "outputs": [
    {
     "name": "stdout",
     "output_type": "stream",
     "text": [
      "(array([ 0.,  0.,  0.]), array([ 0.,  0.,  0.]), array([ 0.,  0.,  0.]))\n",
      "(array([ 1.,  1.,  1.]), array([ 0.,  0.,  0.]), array([-1., -1., -1.]))\n",
      "(array([ 2.,  2.,  2.]), array([ 0.,  0.,  0.]), array([-2., -2., -2.]))\n",
      "(array([ 3.,  3.,  3.]), array([ 0.,  0.,  0.]), array([-3., -3., -3.]))\n",
      "(array([ 4.,  4.,  4.]), array([ 0.,  0.,  0.]), array([-4., -4., -4.]))\n",
      "0\n",
      "elapsed: 0.00292 [sec]\n"
     ]
    }
   ],
   "source": [
    "import time\n",
    "\n",
    "\n",
    "def process(n):\n",
    "    left = np.ones(3) * n\n",
    "    right = np.ones(3) * (-n)\n",
    "    middle = np.zeros(3)\n",
    "    return left, middle, right\n",
    "\n",
    "\n",
    "total = 0\n",
    "N = 5\n",
    "\n",
    "start = time.time()\n",
    "for n in range(N):\n",
    "    print(process(n))\n",
    "elapsed_time = time.time() - start\n",
    "\n",
    "print(total)\n",
    "print('elapsed: {:.5f} [sec]'.format(elapsed_time))"
   ]
  },
  {
   "cell_type": "code",
   "execution_count": 31,
   "metadata": {
    "collapsed": false
   },
   "outputs": [
    {
     "name": "stdout",
     "output_type": "stream",
     "text": [
      "<class 'list'>\n",
      "(10, 3, 3)\n",
      "[[[ 0.  0.  0.]\n",
      "  [ 0.  0.  0.]\n",
      "  [ 0.  0.  0.]]\n",
      "\n",
      " [[ 1.  1.  1.]\n",
      "  [ 0.  0.  0.]\n",
      "  [-1. -1. -1.]]\n",
      "\n",
      " [[ 2.  2.  2.]\n",
      "  [ 0.  0.  0.]\n",
      "  [-2. -2. -2.]]\n",
      "\n",
      " [[ 3.  3.  3.]\n",
      "  [ 0.  0.  0.]\n",
      "  [-3. -3. -3.]]\n",
      "\n",
      " [[ 4.  4.  4.]\n",
      "  [ 0.  0.  0.]\n",
      "  [-4. -4. -4.]]\n",
      "\n",
      " [[ 5.  5.  5.]\n",
      "  [ 0.  0.  0.]\n",
      "  [-5. -5. -5.]]\n",
      "\n",
      " [[ 6.  6.  6.]\n",
      "  [ 0.  0.  0.]\n",
      "  [-6. -6. -6.]]\n",
      "\n",
      " [[ 7.  7.  7.]\n",
      "  [ 0.  0.  0.]\n",
      "  [-7. -7. -7.]]\n",
      "\n",
      " [[ 8.  8.  8.]\n",
      "  [ 0.  0.  0.]\n",
      "  [-8. -8. -8.]]\n",
      "\n",
      " [[ 9.  9.  9.]\n",
      "  [ 0.  0.  0.]\n",
      "  [-9. -9. -9.]]]\n",
      "elapsed: 0.18553 [sec]\n"
     ]
    }
   ],
   "source": [
    "from joblib import Parallel, delayed\n",
    "\n",
    "\n",
    "N = 10\n",
    "\n",
    "start = time.time()\n",
    "r = Parallel(n_jobs=-1)([delayed(process)(n) for n in range(N)])\n",
    "elapsed_time = time.time() - start\n",
    "\n",
    "print(type(r))\n",
    "r = np.array(r)\n",
    "print(r.shape)\n",
    "print(r)\n",
    "print('elapsed: {:.5f} [sec]'.format(elapsed_time))"
   ]
  },
  {
   "cell_type": "code",
   "execution_count": 3,
   "metadata": {
    "collapsed": false
   },
   "outputs": [
    {
     "name": "stdout",
     "output_type": "stream",
     "text": [
      "(5, 7)\n"
     ]
    }
   ],
   "source": [
    "n_docs = 10\n",
    "n_features = 7\n",
    "n_topics = 5\n",
    "\n",
    "phi = np.ones((n_docs, n_features, n_topics))\n",
    "print(phi.sum(axis=0).T.shape)"
   ]
  },
  {
   "cell_type": "code",
   "execution_count": 5,
   "metadata": {
    "collapsed": false
   },
   "outputs": [
    {
     "name": "stdout",
     "output_type": "stream",
     "text": [
      "[1 2 3 4 5]\n",
      "[[ 0.05926371  0.09343999  0.36687486  0.12448064  0.35594081]]\n",
      "[[ 0.18909163  0.22127959  0.1241978   0.17744479  0.28798619]]\n",
      "[[ 0.2  0.2  0.2  0.2  0.2]\n",
      " [ 0.2  0.2  0.2  0.2  0.2]\n",
      " [ 0.2  0.2  0.2  0.2  0.2]\n",
      " [ 0.2  0.2  0.2  0.2  0.2]\n",
      " [ 0.2  0.2  0.2  0.2  0.2]\n",
      " [ 0.2  0.2  0.2  0.2  0.2]\n",
      " [ 0.2  0.2  0.2  0.2  0.2]]\n",
      "[ 0.2  0.2  0.2  0.2  0.2]\n",
      "[ 0.2  0.2  0.2  0.2  0.2]\n"
     ]
    }
   ],
   "source": [
    "from scipy.stats import dirichlet\n",
    "\n",
    "alpha = np.arange(5) + 1\n",
    "\n",
    "alphas = [[1, 2, 3, 4, 5],\n",
    "         [6, 7, 8, 9, 10]]\n",
    "\n",
    "print(alpha)\n",
    "for alpha in alphas:\n",
    "    rvs = dirichlet.rvs(alpha=alpha, size=1)\n",
    "    print(rvs)\n",
    "\n",
    "phi_d = np.ones((n_features, n_topics)) / n_topics\n",
    "print(phi_d)\n",
    "\n",
    "print(phi_d[2])\n",
    "print(phi_d[2, :])"
   ]
  },
  {
   "cell_type": "code",
   "execution_count": 22,
   "metadata": {
    "collapsed": false
   },
   "outputs": [
    {
     "data": {
      "text/plain": [
       "mtrand.RandomState"
      ]
     },
     "execution_count": 22,
     "metadata": {},
     "output_type": "execute_result"
    }
   ],
   "source": [
    "np.random.mtrand._rand.gamma\n",
    "np.random.RandomState"
   ]
  },
  {
   "cell_type": "code",
   "execution_count": 28,
   "metadata": {
    "collapsed": false
   },
   "outputs": [
    {
     "name": "stdout",
     "output_type": "stream",
     "text": [
      "[[ 1.06197871  1.10765762  1.15800937  1.02639692  0.94031248  0.93975469\n",
      "   0.96316042  0.9094494   0.9420897   1.1459723 ]\n",
      " [ 0.968794    0.83549522  1.04755428  0.99411967  0.89974698  1.14443891\n",
      "   0.97623998  0.97546639  0.89168483  1.31294059]\n",
      " [ 0.98193616  0.85292393  1.06726771  0.78914579  0.99673248  1.08449141\n",
      "   0.93657077  0.91060739  1.04468419  1.02524915]\n",
      " [ 0.99923179  0.91846218  0.9812982   0.95022479  0.94032746  0.97047832\n",
      "   1.15326127  1.12302715  1.03685493  1.10264692]\n",
      " [ 0.93123621  1.05035117  1.01170523  0.80622627  0.84694043  0.96743042\n",
      "   0.97544831  0.88897928  1.02413639  1.14494138]]\n"
     ]
    },
    {
     "data": {
      "text/plain": [
       "<mtrand.RandomState at 0x107a16d38>"
      ]
     },
     "execution_count": 28,
     "metadata": {},
     "output_type": "execute_result"
    }
   ],
   "source": [
    "init_gamma = 100.\n",
    "init_var = 1. / init_gamma\n",
    "n_components = 5\n",
    "n_features = 10\n",
    "r = np.random.RandomState(seed=None)\n",
    "components = r.gamma(init_gamma,\n",
    "                                          init_var,\n",
    "                                          (n_components, n_features))\n",
    "print(components)\n",
    "np.random.mtrand._rand"
   ]
  },
  {
   "cell_type": "code",
   "execution_count": null,
   "metadata": {
    "collapsed": true
   },
   "outputs": [],
   "source": []
  }
 ],
 "metadata": {
  "anaconda-cloud": {},
  "kernelspec": {
   "display_name": "Python [conda root]",
   "language": "python",
   "name": "conda-root-py"
  },
  "language_info": {
   "codemirror_mode": {
    "name": "ipython",
    "version": 3
   },
   "file_extension": ".py",
   "mimetype": "text/x-python",
   "name": "python",
   "nbconvert_exporter": "python",
   "pygments_lexer": "ipython3",
   "version": "3.5.2"
  }
 },
 "nbformat": 4,
 "nbformat_minor": 1
}
